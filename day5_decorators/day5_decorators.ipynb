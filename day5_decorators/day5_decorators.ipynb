{
 "cells": [
  {
   "cell_type": "markdown",
   "metadata": {},
   "source": [
    "### A decorator in Python is any callable Python object that is used to modify a function or a class. A reference to a function \"func\" or a class \"C\" is passed to a decorator and the decorator returns a modified function or class. In Other terms, a decorator is something which takes a function/class as input, return function/class as output after modifications."
   ]
  },
  {
   "cell_type": "code",
   "execution_count": 16,
   "metadata": {},
   "outputs": [
    {
     "name": "stdout",
     "output_type": "stream",
     "text": [
      "This is a normal function which prints something !!\n"
     ]
    }
   ],
   "source": [
    "def normal_function(): \n",
    "    print(\"This is a normal function which prints something !!\")\n",
    "normal_function()"
   ]
  },
  {
   "cell_type": "markdown",
   "metadata": {},
   "source": [
    "### Here i am passing a normal function to a decorator, decorator is adding a Before execution and After execution steps to that normal function. i.e If some steps that are mandatory to be executed before execution and after execution of the actual function, we can put those steps in that decorator and then we can use it whenever we want."
   ]
  },
  {
   "cell_type": "code",
   "execution_count": 8,
   "metadata": {},
   "outputs": [
    {
     "name": "stdout",
     "output_type": "stream",
     "text": [
      "Hello, this is before function execution\n",
      "This is a normal function which prints something !!\n",
      "This is after function execution\n"
     ]
    }
   ],
   "source": [
    "def myself_decorator(func): \n",
    "    def inner1(): \n",
    "        print(\"Hello, this is before function execution\") \n",
    "        func() \n",
    "        print(\"This is after function execution\") \n",
    "    return inner1 \n",
    "  \n",
    "  \n",
    "def normal_function(): \n",
    "    print(\"This is a normal function which prints something !!\") \n",
    "normal_function = myself_decorator(normal_function) \n",
    "  \n",
    "normal_function() "
   ]
  },
  {
   "cell_type": "markdown",
   "metadata": {},
   "source": [
    "### Common Syntax of using decorators, using a @decorator_name, at the time of function defination."
   ]
  },
  {
   "cell_type": "code",
   "execution_count": 9,
   "metadata": {},
   "outputs": [
    {
     "name": "stdout",
     "output_type": "stream",
     "text": [
      "Hello, this is before function execution\n",
      "This is a normal function which prints something !!\n",
      "This is after function execution\n"
     ]
    }
   ],
   "source": [
    "@myself_decorator\n",
    "def normal_function(): \n",
    "    print(\"This is a normal function which prints something !!\")\n",
    "normal_function()"
   ]
  },
  {
   "cell_type": "markdown",
   "metadata": {},
   "source": [
    "### Another example of a decorator, which calculates the total run time of a given function."
   ]
  },
  {
   "cell_type": "code",
   "execution_count": 10,
   "metadata": {},
   "outputs": [],
   "source": [
    "import time \n",
    "import math \n",
    "  \n",
    "def calculate_time(func): \n",
    "    def inner1(*args, **kwargs): \n",
    "        begin = time.time() \n",
    "        func(*args, **kwargs) \n",
    "        end = time.time() \n",
    "        print(\"Total time taken in : \", func.__name__, end - begin) \n",
    "    return inner1 "
   ]
  },
  {
   "cell_type": "markdown",
   "metadata": {},
   "source": [
    "### Output of \"factorial\" function when decorator is not used."
   ]
  },
  {
   "cell_type": "code",
   "execution_count": 12,
   "metadata": {},
   "outputs": [
    {
     "name": "stdout",
     "output_type": "stream",
     "text": [
      "3628800\n"
     ]
    }
   ],
   "source": [
    "def factorial(num): \n",
    "    time.sleep(2) \n",
    "    print(math.factorial(num)) \n",
    "factorial(10)"
   ]
  },
  {
   "cell_type": "markdown",
   "metadata": {},
   "source": [
    "### Output of \"factorial\" function when is used."
   ]
  },
  {
   "cell_type": "code",
   "execution_count": 15,
   "metadata": {},
   "outputs": [
    {
     "name": "stdout",
     "output_type": "stream",
     "text": [
      "3628800\n",
      "Total time taken in :  factorial 2.0022976398468018\n"
     ]
    }
   ],
   "source": [
    "@calculate_time\n",
    "def factorial(num): \n",
    "    time.sleep(2) \n",
    "    print(math.factorial(num)) \n",
    "factorial(10)"
   ]
  }
 ],
 "metadata": {
  "kernelspec": {
   "display_name": "Python 3",
   "language": "python",
   "name": "python3"
  },
  "language_info": {
   "codemirror_mode": {
    "name": "ipython",
    "version": 3
   },
   "file_extension": ".py",
   "mimetype": "text/x-python",
   "name": "python",
   "nbconvert_exporter": "python",
   "pygments_lexer": "ipython3",
   "version": "3.8.3"
  }
 },
 "nbformat": 4,
 "nbformat_minor": 4
}
