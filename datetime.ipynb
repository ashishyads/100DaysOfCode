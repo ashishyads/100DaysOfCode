{
 "cells": [
  {
   "cell_type": "code",
   "execution_count": 104,
   "metadata": {},
   "outputs": [],
   "source": [
    "from datetime import datetime, timedelta"
   ]
  },
  {
   "cell_type": "code",
   "execution_count": 105,
   "metadata": {},
   "outputs": [
    {
     "name": "stdout",
     "output_type": "stream",
     "text": [
      "Current Date Time:  2020-09-16 19:14:26.784143\n"
     ]
    }
   ],
   "source": [
    "# this returns current date and time\n",
    "current_date_time = datetime.now() \n",
    "print(\"Current Date Time: \", current_date_time)"
   ]
  },
  {
   "cell_type": "code",
   "execution_count": 106,
   "metadata": {},
   "outputs": [
    {
     "name": "stdout",
     "output_type": "stream",
     "text": [
      "Today's Full Date:  2020-09-16\n"
     ]
    }
   ],
   "source": [
    "# this returns current date\n",
    "print(\"Today's Full Date: \", current_date_time.date())"
   ]
  },
  {
   "cell_type": "code",
   "execution_count": 107,
   "metadata": {},
   "outputs": [
    {
     "name": "stdout",
     "output_type": "stream",
     "text": [
      "Current Time:  19:14:26.784143\n"
     ]
    }
   ],
   "source": [
    "# this returns current time\n",
    "print(\"Current Time: \", current_date_time.time())"
   ]
  },
  {
   "cell_type": "code",
   "execution_count": 108,
   "metadata": {},
   "outputs": [
    {
     "name": "stdout",
     "output_type": "stream",
     "text": [
      "Today's Date:  16\n"
     ]
    }
   ],
   "source": [
    "# this returns today's day\n",
    "print(\"Today's Date: \", current_date_time.day)"
   ]
  },
  {
   "cell_type": "code",
   "execution_count": 109,
   "metadata": {},
   "outputs": [
    {
     "name": "stdout",
     "output_type": "stream",
     "text": [
      "Current Month:  9\n"
     ]
    }
   ],
   "source": [
    "# this returns current month\n",
    "print(\"Current Month: \", current_date_time.month)"
   ]
  },
  {
   "cell_type": "code",
   "execution_count": 110,
   "metadata": {},
   "outputs": [
    {
     "name": "stdout",
     "output_type": "stream",
     "text": [
      "current Year:  2020\n"
     ]
    }
   ],
   "source": [
    "# this returns current year\n",
    "print(\"current Year: \", current_date_time.year)"
   ]
  },
  {
   "cell_type": "code",
   "execution_count": 111,
   "metadata": {},
   "outputs": [
    {
     "name": "stdout",
     "output_type": "stream",
     "text": [
      "Today's Midnight Date & Time:  2020-09-16 00:00:00\n"
     ]
    }
   ],
   "source": [
    "# return todays midnight date time.\n",
    "print(\"Today's Midnight Date & Time: \", datetime.combine(datetime.now().date(), datetime.min.time()))"
   ]
  },
  {
   "cell_type": "code",
   "execution_count": 112,
   "metadata": {},
   "outputs": [
    {
     "name": "stdout",
     "output_type": "stream",
     "text": [
      "Current Date Time in EPOCH:  1600263867\n"
     ]
    }
   ],
   "source": [
    "# return current date time in EPOCH\n",
    "print(\"Current Date Time in EPOCH: \", round(current_date_time.timestamp()))"
   ]
  },
  {
   "cell_type": "code",
   "execution_count": 113,
   "metadata": {},
   "outputs": [],
   "source": [
    "# Adding and subtracting WEEKS, DAYS, HOURS, MINUTES, SECONDS , MICROSECONDS in/from todays date time."
   ]
  },
  {
   "cell_type": "code",
   "execution_count": 114,
   "metadata": {},
   "outputs": [
    {
     "name": "stdout",
     "output_type": "stream",
     "text": [
      "Before Adding Anything Current Date Time Is:  2020-09-16 19:14:26.784143\n"
     ]
    }
   ],
   "source": [
    "print(\"Before Adding Anything Current Date Time Is: \", current_date_time)"
   ]
  },
  {
   "cell_type": "code",
   "execution_count": 115,
   "metadata": {},
   "outputs": [
    {
     "name": "stdout",
     "output_type": "stream",
     "text": [
      "After Adding 1 Week Current Time:  2020-09-23 19:14:26.784143\n"
     ]
    }
   ],
   "source": [
    "# Adding 1 Week in  current date & time\n",
    "print(\"After Adding 1 Week Current Time: \", current_date_time + timedelta(weeks=1))"
   ]
  },
  {
   "cell_type": "code",
   "execution_count": 116,
   "metadata": {},
   "outputs": [
    {
     "name": "stdout",
     "output_type": "stream",
     "text": [
      "After Adding 2 Hours Current Time:  2020-09-16 21:14:26.784143\n"
     ]
    }
   ],
   "source": [
    "# Adding 2 Hours in  current date & time\n",
    "print(\"After Adding 2 Hours Current Time: \", current_date_time + timedelta(hours=2))"
   ]
  },
  {
   "cell_type": "code",
   "execution_count": 117,
   "metadata": {},
   "outputs": [
    {
     "name": "stdout",
     "output_type": "stream",
     "text": [
      "After Adding 180 Minutes Current Time:  2020-09-16 22:14:26.784143\n"
     ]
    }
   ],
   "source": [
    "# Adding 180 Minutes in  current date & time\n",
    "print(\"After Adding 180 Minutes Current Time: \", current_date_time + timedelta(minutes=180))"
   ]
  },
  {
   "cell_type": "code",
   "execution_count": 118,
   "metadata": {},
   "outputs": [
    {
     "name": "stdout",
     "output_type": "stream",
     "text": [
      "After Adding 60 Seconds In Current Time:  2020-09-16 19:15:26.784143\n"
     ]
    }
   ],
   "source": [
    "# Adding 60 Seconds in  current date & time\n",
    "print(\"After Adding 60 Seconds In Current Time: \", current_date_time + timedelta(seconds=60))"
   ]
  },
  {
   "cell_type": "code",
   "execution_count": null,
   "metadata": {},
   "outputs": [],
   "source": []
  }
 ],
 "metadata": {
  "kernelspec": {
   "display_name": "Python 3",
   "language": "python",
   "name": "python3"
  },
  "language_info": {
   "codemirror_mode": {
    "name": "ipython",
    "version": 3
   },
   "file_extension": ".py",
   "mimetype": "text/x-python",
   "name": "python",
   "nbconvert_exporter": "python",
   "pygments_lexer": "ipython3",
   "version": "3.8.3"
  }
 },
 "nbformat": 4,
 "nbformat_minor": 4
}
